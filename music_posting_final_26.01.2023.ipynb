{
 "cells": [
  {
   "cell_type": "markdown",
   "metadata": {},
   "source": [
    "### **przyjazny bot**\n",
    "#### post lyrics from top 50 songs in Poland on Twitter"
   ]
  },
  {
   "cell_type": "markdown",
   "metadata": {},
   "source": [
    "Import necessary libraries"
   ]
  },
  {
   "cell_type": "code",
   "execution_count": 1,
   "metadata": {},
   "outputs": [],
   "source": [
    "import spotipy\n",
    "import spotipy.oauth2 as oauth2\n",
    "from spotipy.oauth2 import SpotifyOAuth\n",
    "from spotipy.oauth2 import SpotifyClientCredentials\n",
    "import lyricsgenius\n",
    "import tweepy\n",
    "import random\n",
    "import os\n",
    "import pandas as pd\n",
    "from dotenv import load_dotenv\n",
    "import requests\n",
    "import urllib.request\n",
    "import re"
   ]
  },
  {
   "cell_type": "markdown",
   "metadata": {},
   "source": [
    "##### Spotify API Authorization"
   ]
  },
  {
   "cell_type": "code",
   "execution_count": 2,
   "metadata": {},
   "outputs": [],
   "source": [
    "load_dotenv()\n",
    "\n",
    "auth_manager = SpotifyClientCredentials(client_id=os.getenv(\"SPOTIPY_CLIENT_ID\"), client_secret=os.getenv(\"SPOTIPY_CLIENT_SECRET\"))\n",
    "sp = spotipy.Spotify(auth_manager=auth_manager)"
   ]
  },
  {
   "cell_type": "markdown",
   "metadata": {},
   "source": [
    "Download track ids from specific playlist"
   ]
  },
  {
   "cell_type": "code",
   "execution_count": 3,
   "metadata": {},
   "outputs": [],
   "source": [
    "def download_tracks_ids(username, playlist_id):\n",
    "    tracks_ids = []\n",
    "    playlist = sp.user_playlist(username, playlist_id)\n",
    "    for item in playlist['tracks']['items']:\n",
    "        track = item['track']\n",
    "        tracks_ids.append(track['id'])\n",
    "    return tracks_ids"
   ]
  },
  {
   "cell_type": "code",
   "execution_count": 4,
   "metadata": {},
   "outputs": [
    {
     "name": "stdout",
     "output_type": "stream",
     "text": [
      "['0yLdNVWF3Srea0uzk55zFn', '05MYJf19LSo2E1lZ0RrMAC', '3Nqxx5fdl3FQlrk3zarRmA', '09m29we7x9tgxyo6f3OQ87', '1pCekfmD7qmOpKnTgttGcu', '384lHduuDsrR4HPUwR3fG4', '4JmaOG7bfj1uNv8jEUg0Ce', '4nrPB8O7Y7wsOCJdgXkthe', '3f9Ugg030LDe0p6ospTORC', '3nqQXoyQOWXiESFLlDF1hG', '73vIOb4Q7YN6HeJTbscRx5', '3T601uaEcVdVmGE5w3BSDW', '4uUG5RXrOk84mYEfFvj3cK', '3p6uAP2ajkobkIW8IkEpgr', '08sMDBcjUBXWV99gZI092C', '2yxPqxHbj1L7vrCpHLtAcG', '1Qrg8KqiBpW07V7PNxwwwL', '4N6rgD6EqLbWcl5ld3NqTP', '5GdFPcbGDQqtbVO2jl6Ez5', '1yiGGRGdHEc1F3jF5jEVmH', '4nv5o5Xo4ySBaIVnXr75Xs', '561jH07mF1jHuk7KlaeF0s', '11BKm0j4eYoCPPpCONAVwA', '0zmxM4MXfisJRTQcPa1wbv', '4lPAZiTJbaQ4irMzcq0GOU', '7jtQIBanIiJOMS6RyCx6jZ', '2dHHgzDwk4BJdRwy9uXhTO', '0JXXNGljqupsJaZsgSbMZV', '2yEWVnp65tTXSrRW03IqXs', '53OQFPwyflA0jMyUjUSawr', '1VoUHMVxu1qG2Z9josOhWs', '4h9wh7iOZ0GGn8QVp4RAOB', '14154tJOTjeyeOyhnqP4QM', '5WxVXxCMRnvxUKFq40ELwq', '1N8TTK1Uoy7UvQNUazfUt5', '11JXHNIH2xO5INcJQOWCjY', '2KTfSSKBBfMLXwDqrtoOE5', '6JTuuvDOmXEgBdPNxG3tV3', '2nGA88iGanJ3rkDaWXQLyv', '5Dny8KqcvmDgW6yt0dm0Ew', '5MnvdapEzYt5yWfpQHbhcL', '5XeFesFbtLpXzIVDNQP22n', '1cAAn5PKy40T1p15fpTPW8', '5YvL3ytkusKcM5ozxD9fKN', '2QjOHCTQ1Jl3zawyYOpxh6', '0KMDkQbcglNudXuynwKMs6', '3rb0tMq42WfggucPm0HHkA', '5NbxvSCL1xLqqWLqG6LjwE', '6M0piiE5fhZLnWZzbtuXak', '5YdnOm5990Kfq1Jodws98B']\n"
     ]
    }
   ],
   "source": [
    "#tracks_ids = download_tracks_ids(os.getenv(\"USERNAME_2\"), os.getenv(\"PLAYLIST_ID\")) \n",
    "tracks_ids = download_tracks_ids(os.getenv(\"USERNAME\"), os.getenv(\"PLAYLIST_ID\")) \n",
    "print(tracks_ids)"
   ]
  },
  {
   "cell_type": "markdown",
   "metadata": {},
   "source": [
    "Draw of a track id"
   ]
  },
  {
   "cell_type": "code",
   "execution_count": 5,
   "metadata": {},
   "outputs": [
    {
     "name": "stdout",
     "output_type": "stream",
     "text": [
      "561jH07mF1jHuk7KlaeF0s\n"
     ]
    }
   ],
   "source": [
    "track_id = random.choice(tracks_ids)\n",
    "print(track_id)"
   ]
  },
  {
   "cell_type": "markdown",
   "metadata": {},
   "source": [
    "Collect data (title and main artist) needed to search lyrics via the Genius API"
   ]
  },
  {
   "cell_type": "code",
   "execution_count": 6,
   "metadata": {},
   "outputs": [],
   "source": [
    "def artist_genius(track_id):\n",
    "    track_info = sp.track(track_id)\n",
    "    artist_genius = track_info['album']['artists'][0]['name']\n",
    "    return artist_genius"
   ]
  },
  {
   "cell_type": "code",
   "execution_count": 7,
   "metadata": {},
   "outputs": [],
   "source": [
    "def title(track_id):\n",
    "    song_info = sp.track(track_id)\n",
    "    title = song_info['name']\n",
    "    return title"
   ]
  },
  {
   "cell_type": "markdown",
   "metadata": {},
   "source": [
    "Collect information about all artists to include in a tweet"
   ]
  },
  {
   "cell_type": "code",
   "execution_count": 8,
   "metadata": {},
   "outputs": [],
   "source": [
    "def artists(track_id):\n",
    "    track_info = sp.track(track_id)\n",
    "    artists_list = []\n",
    "    for i in range(0, len(track_info['album']['artists'])):\n",
    "        artists_list.append(track_info['album']['artists'][i]['name']) \n",
    "    str_artists = \", \"\n",
    "    return(str_artists.join(artists_list))"
   ]
  },
  {
   "cell_type": "code",
   "execution_count": 9,
   "metadata": {},
   "outputs": [
    {
     "name": "stdout",
     "output_type": "stream",
     "text": [
      "Eminem Mockingbird Eminem\n"
     ]
    }
   ],
   "source": [
    "print(artist_genius(track_id), title(track_id), artists(track_id))"
   ]
  },
  {
   "cell_type": "markdown",
   "metadata": {},
   "source": [
    "Get album cover for given song"
   ]
  },
  {
   "cell_type": "code",
   "execution_count": 10,
   "metadata": {},
   "outputs": [],
   "source": [
    "def get_album_cover(track_id):\n",
    "    track_info = sp.track(track_id = track_id)\n",
    "    img_url = track_info['album']['images'][0]['url']\n",
    "    img_data = requests.get(img_url).content\n",
    "    with open('album_cover.jpg', 'wb') as handler:\n",
    "        handler.write(img_data)"
   ]
  },
  {
   "cell_type": "code",
   "execution_count": 11,
   "metadata": {},
   "outputs": [
    {
     "name": "stdout",
     "output_type": "stream",
     "text": [
      "https://i.scdn.co/image/ab67616d0000b273726d48d93d02e1271774f023\n"
     ]
    }
   ],
   "source": [
    "get_album_cover(track_id)\n",
    "print(sp.track(track_id = track_id)['album']['images'][0]['url'])"
   ]
  },
  {
   "cell_type": "markdown",
   "metadata": {},
   "source": [
    "Get related artists for given artist"
   ]
  },
  {
   "cell_type": "code",
   "execution_count": 12,
   "metadata": {},
   "outputs": [],
   "source": [
    "def get_related_artists(artist_name): # it's typo sensitive\n",
    "    results = sp.search(q='artist:' + artist_name, type='artist')\n",
    "    if results['artists']['total'] == 0: \n",
    "        return \"Couldn't find artist\"\n",
    "    else: \n",
    "        artist_id = results['artists']['items'][0]['id']\n",
    "        related_artists = sp.artist_related_artists(artist_id)['artists']\n",
    "        related_artists_list = []\n",
    "        for artist in related_artists[:5]:\n",
    "            related_artists_list.append(artist['name'])\n",
    "        return related_artists_list"
   ]
  },
  {
   "cell_type": "code",
   "execution_count": 13,
   "metadata": {},
   "outputs": [],
   "source": [
    "def tweet_content2(artists):\n",
    "    tweet = 'Here is the list of similar artists:' + '\\n' + '\\n' + '1. ' + artists[0] + '\\n' + '2. ' + artists[1] + '\\n' + '3. ' + artists[2] + '\\n' + '4. ' + artists[3] + '\\n' + '5. ' + artists[4]\n",
    "    return tweet"
   ]
  },
  {
   "cell_type": "code",
   "execution_count": 14,
   "metadata": {},
   "outputs": [],
   "source": [
    "tweet_content3 = \"Sorry, I couldn't find this artist. Are you sure you spelled it right?\""
   ]
  },
  {
   "cell_type": "markdown",
   "metadata": {},
   "source": [
    "Get link of teledisc on YouTube"
   ]
  },
  {
   "cell_type": "code",
   "execution_count": 15,
   "metadata": {},
   "outputs": [],
   "source": [
    "def prepare_text_to_link(string):\n",
    "    splited = string.split()\n",
    "    name = \"\"\n",
    "    iterator = 0\n",
    "    for i in splited:\n",
    "        iterator = iterator+1\n",
    "        if iterator==1:\n",
    "            name = i\n",
    "        else:\n",
    "            name = name+\"+\"+i\n",
    "    return name"
   ]
  },
  {
   "cell_type": "code",
   "execution_count": 16,
   "metadata": {},
   "outputs": [],
   "source": [
    "def get_body_for_youtube(track_id):\n",
    "    title_name = title(track_id)\n",
    "    artists_name = artists(track_id)\n",
    "    body = artists_name + title_name\n",
    "    return body"
   ]
  },
  {
   "cell_type": "code",
   "execution_count": 17,
   "metadata": {},
   "outputs": [],
   "source": [
    "def get_youtube_link(body):\n",
    "    body = body.encode('ascii', 'ignore').decode('ascii')\n",
    "    html = urllib.request.urlopen(\"https://www.youtube.com/results?search_query=\" + body)\n",
    "    video_id = re.findall(r\"watch\\?v=(\\S{11})\",html.read().decode())\n",
    "    link = \"https://www.youtube.com/watch?v=\" + video_id[0]\n",
    "    return link\n",
    "    "
   ]
  },
  {
   "cell_type": "code",
   "execution_count": 18,
   "metadata": {},
   "outputs": [],
   "source": [
    "def tweet_content_yt():\n",
    "    tweet = 'Here is the link to your teledisc. Enjoy! ' + \"\\n\" + \"\\n\" + link\n",
    "    return tweet"
   ]
  },
  {
   "cell_type": "markdown",
   "metadata": {},
   "source": [
    "##### Genius API"
   ]
  },
  {
   "cell_type": "code",
   "execution_count": 19,
   "metadata": {},
   "outputs": [],
   "source": [
    "genius = lyricsgenius.Genius(os.getenv(\"GENIUS_CLIENT_ID\"))\n",
    "genius.remove_section_headers = True"
   ]
  },
  {
   "cell_type": "markdown",
   "metadata": {},
   "source": [
    "Download track lyrics from Genius"
   ]
  },
  {
   "cell_type": "code",
   "execution_count": 20,
   "metadata": {},
   "outputs": [],
   "source": [
    "def raw_lyrics(track_id):\n",
    "    lyrics = genius.search_song(title(track_id), artist_genius(track_id)).lyrics\n",
    "    return lyrics"
   ]
  },
  {
   "cell_type": "markdown",
   "metadata": {},
   "source": [
    "Processing the text to include it in the tweet"
   ]
  },
  {
   "cell_type": "code",
   "execution_count": 21,
   "metadata": {},
   "outputs": [],
   "source": [
    "def tweet_content(lyrics, track_id):\n",
    "    lyrics = lyrics.split('\\n')\n",
    "    for index in range(len(lyrics)):\n",
    "        if lyrics[index] == \"\" or \"[\" in lyrics[index]:\n",
    "            lyrics[index] = \"XXX\"\n",
    "    lyrics = [i for i in lyrics if i != \"XXX\"]\n",
    "\n",
    "    random_num = random.randrange(0, len(lyrics)-1)\n",
    "    tweet = lyrics[random_num] + \"\\n\" + lyrics[random_num+1] + \"\\n\" + \"\\n\" + title(track_id) + \" by \" + artists(track_id)\n",
    "    tweet = tweet.replace(\"\\\\\", \"\")\n",
    "    return tweet"
   ]
  },
  {
   "cell_type": "code",
   "execution_count": 22,
   "metadata": {},
   "outputs": [
    {
     "name": "stdout",
     "output_type": "stream",
     "text": [
      "Searching for \"Mockingbird\" by Eminem...\n",
      "Done.\n"
     ]
    },
    {
     "data": {
      "text/plain": [
       "\"But no more worries, rest your head and go to sleep\\nMaybe one day we'll wake up and this'll all just be a dream\\n\\nMockingbird by Eminem\""
      ]
     },
     "execution_count": 22,
     "metadata": {},
     "output_type": "execute_result"
    }
   ],
   "source": [
    "lyrics = raw_lyrics(track_id)\n",
    "tweet_content(lyrics, track_id)"
   ]
  },
  {
   "cell_type": "markdown",
   "metadata": {},
   "source": [
    "##### Twitter API"
   ]
  },
  {
   "cell_type": "markdown",
   "metadata": {},
   "source": [
    "First API v1.1 authentication, only to use *media_upload* method (it's not available in API v2)"
   ]
  },
  {
   "cell_type": "code",
   "execution_count": 23,
   "metadata": {},
   "outputs": [],
   "source": [
    "auth = tweepy.OAuthHandler(os.getenv(\"CONSUMER_KEY\"), os.getenv(\"CONSUMER_SECRET\"))\n",
    "auth.set_access_token(os.getenv(\"ACCESS_TOKEN\"), os.getenv(\"ACCESS_TOKEN_SECRET\"))\n",
    "\n",
    "apiv1 = tweepy.API(auth)"
   ]
  },
  {
   "cell_type": "markdown",
   "metadata": {},
   "source": [
    "Upload album cover to twitter (we have to do that in order to attach it to tweet later)"
   ]
  },
  {
   "cell_type": "code",
   "execution_count": 24,
   "metadata": {},
   "outputs": [],
   "source": [
    "media = apiv1.media_upload(filename = \"album_cover.jpg\")\n",
    "media_id = media.media_id_string #media_id potem trzeba wstawić do metody create_tweet"
   ]
  },
  {
   "cell_type": "markdown",
   "metadata": {},
   "source": [
    "And now API v2 authentication"
   ]
  },
  {
   "cell_type": "code",
   "execution_count": 25,
   "metadata": {},
   "outputs": [],
   "source": [
    "api = tweepy.Client(bearer_token=os.getenv(\"BEARER_TOKEN\"), consumer_key= os.getenv(\"CONSUMER_KEY\"), consumer_secret=os.getenv(\"CONSUMER_SECRET\"), access_token=os.getenv(\"ACCESS_TOKEN\"), access_token_secret=os.getenv(\"ACCESS_TOKEN_SECRET\"))"
   ]
  },
  {
   "cell_type": "markdown",
   "metadata": {},
   "source": [
    "Tweet lyrics of one of TOP 50 tracks in Poland"
   ]
  },
  {
   "cell_type": "code",
   "execution_count": 26,
   "metadata": {},
   "outputs": [
    {
     "name": "stdout",
     "output_type": "stream",
     "text": [
      "Searching for \"Mockingbird\" by Eminem...\n",
      "Done.\n"
     ]
    }
   ],
   "source": [
    "result = None\n",
    "while result is None:\n",
    "    try:\n",
    "        lyrics = raw_lyrics(track_id)\n",
    "        result = api.create_tweet(text=tweet_content(lyrics, track_id), media_ids = [media_id])\n",
    "    except:\n",
    "         pass"
   ]
  },
  {
   "cell_type": "markdown",
   "metadata": {},
   "source": [
    "#### Retweet quote tweets and reply on mention"
   ]
  },
  {
   "cell_type": "markdown",
   "metadata": {},
   "source": [
    "Draw of a track id"
   ]
  },
  {
   "cell_type": "code",
   "execution_count": 27,
   "metadata": {},
   "outputs": [
    {
     "name": "stdout",
     "output_type": "stream",
     "text": [
      "4JmaOG7bfj1uNv8jEUg0Ce\n"
     ]
    }
   ],
   "source": [
    "track_id = random.choice(tracks_ids)\n",
    "print(track_id)"
   ]
  },
  {
   "cell_type": "markdown",
   "metadata": {},
   "source": [
    "Prepare string to put into YouTube link"
   ]
  },
  {
   "cell_type": "code",
   "execution_count": 28,
   "metadata": {},
   "outputs": [
    {
     "name": "stdout",
     "output_type": "stream",
     "text": [
      "Kuban,+Favstna+okrągło\n"
     ]
    }
   ],
   "source": [
    "get_body_for_youtube(track_id)\n",
    "body = prepare_text_to_link(get_body_for_youtube(track_id))\n",
    "print(body)"
   ]
  },
  {
   "cell_type": "markdown",
   "metadata": {},
   "source": [
    "Get Youtube link for chosen song"
   ]
  },
  {
   "cell_type": "code",
   "execution_count": 29,
   "metadata": {},
   "outputs": [
    {
     "name": "stdout",
     "output_type": "stream",
     "text": [
      "https://www.youtube.com/watch?v=DIgIjGDtmdg\n"
     ]
    }
   ],
   "source": [
    "get_body_for_youtube(track_id)\n",
    "body = prepare_text_to_link(get_body_for_youtube(track_id))\n",
    "#print(body)\n",
    "link = get_youtube_link(body)\n",
    "print(link)"
   ]
  },
  {
   "cell_type": "code",
   "execution_count": 30,
   "metadata": {},
   "outputs": [],
   "source": [
    "def tweet_content_yt():\n",
    "    tweet = 'Here is the link to your teledisc. Enjoy! ' + \"\\n\" + \"\\n\" + link\n",
    "    return tweet"
   ]
  },
  {
   "cell_type": "markdown",
   "metadata": {},
   "source": [
    "Create content for post with YouTube link"
   ]
  },
  {
   "cell_type": "code",
   "execution_count": 31,
   "metadata": {},
   "outputs": [
    {
     "data": {
      "text/plain": [
       "'Here is the link to your teledisc. Enjoy! \\n\\nhttps://www.youtube.com/watch?v=DIgIjGDtmdg'"
      ]
     },
     "execution_count": 31,
     "metadata": {},
     "output_type": "execute_result"
    }
   ],
   "source": [
    "tweet_content_yt()"
   ]
  },
  {
   "cell_type": "code",
   "execution_count": 32,
   "metadata": {},
   "outputs": [],
   "source": [
    "def get_tweet(id):\n",
    "    tweet = api.get_tweet(id, expansions=['author_id'], user_fields=['username'])\n",
    "    return tweet"
   ]
  },
  {
   "cell_type": "code",
   "execution_count": 33,
   "metadata": {},
   "outputs": [],
   "source": [
    "def quote_tweets(query, max_results):\n",
    "    tweets = api.search_recent_tweets(query=query, max_results=max_results)\n",
    "    results = []\n",
    "    if not tweets.data is None and len(tweets.data) > 0:\n",
    "        for tweet in tweets.data:\n",
    "            twt = get_tweet(tweet['id'])\n",
    "            obj = {}\n",
    "            obj['id'] = tweet.id\n",
    "            obj['username'] = twt.includes['users'][0].username\n",
    "            obj['text'] = tweet.text\n",
    "            results.append(obj)\n",
    "    return results"
   ]
  },
  {
   "cell_type": "markdown",
   "metadata": {},
   "source": [
    "Check if whether a tweet (id) has already received a reply"
   ]
  },
  {
   "cell_type": "code",
   "execution_count": 34,
   "metadata": {},
   "outputs": [],
   "source": [
    "def check(id):\n",
    "    with open('last_tweet_ids.txt') as f:\n",
    "        datafile = f.readlines()\n",
    "    for line in datafile:\n",
    "        if id in line:\n",
    "            return True\n",
    "    return False"
   ]
  },
  {
   "cell_type": "markdown",
   "metadata": {},
   "source": [
    "Add tweet (id) to database = text file\n"
   ]
  },
  {
   "cell_type": "code",
   "execution_count": 35,
   "metadata": {},
   "outputs": [],
   "source": [
    "def append_new_id(text_to_append):\n",
    "    with open('last_tweet_ids.txt', \"a+\") as file_object:\n",
    "        file_object.seek(0)\n",
    "        data = file_object.read(100)\n",
    "        if len(data) > 0:\n",
    "            file_object.write(\"\\n\")\n",
    "        file_object.write(text_to_append)"
   ]
  },
  {
   "cell_type": "markdown",
   "metadata": {},
   "source": [
    "Get artist name from the tweet"
   ]
  },
  {
   "cell_type": "code",
   "execution_count": 36,
   "metadata": {},
   "outputs": [],
   "source": [
    "def get_artist_name(tweet_text):\n",
    "    start = '@przyjaznybot'\n",
    "    end = 'related artists'\n",
    "    artist_name = tweet_text[tweet_text.find(start)+len(start):tweet_text.rfind(end)]\n",
    "    return artist_name"
   ]
  },
  {
   "cell_type": "code",
   "execution_count": 37,
   "metadata": {},
   "outputs": [
    {
     "data": {
      "text/plain": [
       "[{'id': 1618648089752920064,\n",
       "  'username': 'przyjaznybot',\n",
       "  'text': 'Papa was a rolling stone, Momma developed a habit\\nAnd it all happened too fast for either one of us to grab it\\n\\nMockingbird by Eminem https://t.co/YYJ6pKJX42'},\n",
       " {'id': 1618646440754188290,\n",
       "  'username': 'Szafa9',\n",
       "  'text': '@przyjaznybot kino related artists'},\n",
       " {'id': 1618643953053753346,\n",
       "  'username': 'Szafa9',\n",
       "  'text': '@przyjaznybot the smiths related artists'},\n",
       " {'id': 1618642948677144576,\n",
       "  'username': 'przyjaznybot',\n",
       "  'text': 'hello @Szafa9\\n\\nJeszcze kilka słów\\nA jeśli już, to wezmę tam ze sobą bukiet róż\\n\\nmori by Dawid Podsiadło https://t.co/pKpxsnTfSv'},\n",
       " {'id': 1618642945166528519,\n",
       "  'username': 'przyjaznybot',\n",
       "  'text': 'hello @Szafa9\\n\\nmori by Dawid Podsiadło. Here is the link to your teledisc. Enjoy! \\n\\nhttps://t.co/4VFqDcbAob https://t.co/vEA9Qh0bos'},\n",
       " {'id': 1618642260266213378,\n",
       "  'username': 'Szafa9',\n",
       "  'text': '@przyjaznybot send top Poland music link xyz'},\n",
       " {'id': 1618642145321320448,\n",
       "  'username': 'Szafa9',\n",
       "  'text': '@przyjaznybot draw lyrics xyz'},\n",
       " {'id': 1618640088891539457,\n",
       "  'username': 'przyjaznybot',\n",
       "  'text': 'hello @Szafa9\\n\\nSweater Weather by The Neighbourhood. Here is the link to your teledisc. Enjoy! \\n\\nhttps://t.co/fHUaFSp7TF https://t.co/RFAjOfnwUY'},\n",
       " {'id': 1618639815972655104,\n",
       "  'username': 'Szafa9',\n",
       "  'text': '@przyjaznybot send top Poland music link'},\n",
       " {'id': 1618638990365626370,\n",
       "  'username': 'przyjaznybot',\n",
       "  'text': \"hello @Szafa9\\n\\nJust us, you find out\\nNothing that I wouldn't wanna tell you about\\n\\nSweater Weather by The Neighbourhood https://t.co/gCB1SyZUbD\"}]"
      ]
     },
     "execution_count": 37,
     "metadata": {},
     "output_type": "execute_result"
    }
   ],
   "source": [
    "QUERY = \"przyjaznybot\"\n",
    "MAX_RESULTS = 10\n",
    "\n",
    "quote_tweets(QUERY, MAX_RESULTS)"
   ]
  },
  {
   "cell_type": "markdown",
   "metadata": {},
   "source": [
    "From list of dictionaries to list of specific variables"
   ]
  },
  {
   "cell_type": "code",
   "execution_count": 38,
   "metadata": {},
   "outputs": [],
   "source": [
    "values_of_usernames = [dict['username'] for dict in quote_tweets(QUERY, MAX_RESULTS)]\n",
    "values_of_ids = [dict['id'] for dict in quote_tweets(QUERY, MAX_RESULTS)]\n",
    "values_of_text = [dict['text'] for dict in quote_tweets(QUERY, MAX_RESULTS)]"
   ]
  },
  {
   "cell_type": "markdown",
   "metadata": {},
   "source": [
    "If someone share a tweet containing the phrase \"draw lyrics\", bot create new tweet with the user's mention. <br>\n",
    "\n",
    "If someone share a tweet containing the phrase \"send top Poland music link\", bot create new tweet with the user's mention, <br>\n",
    "photo of the album and link to the song on YouTube <br>\n",
    "\n",
    "If someone share a tweet containing the phrase \"*artist* related artists\", bot replies with list of related artists. <br>\n",
    "\n",
    "If someone quotes a tweet, bot retweet it."
   ]
  },
  {
   "cell_type": "code",
   "execution_count": 39,
   "metadata": {},
   "outputs": [
    {
     "name": "stdout",
     "output_type": "stream",
     "text": [
      "Searching for \"na okrągło\" by Kuban...\n",
      "Done.\n"
     ]
    }
   ],
   "source": [
    "lines = []\n",
    "lyrics = raw_lyrics(track_id)\n",
    "\n",
    "get_album_cover(track_id)\n",
    "media = apiv1.media_upload(filename = \"album_cover.jpg\")\n",
    "media_id = media.media_id_string\n",
    "\n",
    "for i in range(len(values_of_ids)):\n",
    "    if check(str(values_of_ids[i])) == False:\n",
    "        if values_of_usernames[i] != \"przyjaznybot\":\n",
    "            if \"draw lyrics\" in values_of_text[i] and check(str(values_of_ids[i])) == False:\n",
    "                reply = \"hello @\" + values_of_usernames[i] + \"\\n\" + \"\\n\" + tweet_content(lyrics, track_id)\n",
    "                api.like(values_of_ids[i])\n",
    "                api.create_tweet(text=reply, media_ids = [media_id])\n",
    "                append_new_id(str(values_of_ids[i]))\n",
    "            elif \"send top Poland music link\" in values_of_text[i] and check(str(values_of_ids[i])) == False:\n",
    "                reply = \"hello @\" + values_of_usernames[i] + \"\\n\" + \"\\n\" + title(track_id) + \" by \" + artists(track_id) + \". \" + tweet_content_yt()\n",
    "                api.like(values_of_ids[i])\n",
    "                api.create_tweet(text=reply, media_ids = [media_id])\n",
    "                append_new_id(str(values_of_ids[i]))\n",
    "            elif \"related artists\" in values_of_text[i] and check(str(values_of_ids[i])) == False:\n",
    "                artist_name = get_artist_name(values_of_text[i])\n",
    "                related_artists = get_related_artists(artist_name)\n",
    "                if related_artists == \"Couldn't find artist\":\n",
    "                    reply = \"hello @\" + values_of_usernames[i] + \"\\n\" + \"\\n\" + tweet_content3\n",
    "                else:\n",
    "                    reply = \"hello @\" + values_of_usernames[i] + \"\\n\" + \"\\n\" + tweet_content2(related_artists)\n",
    "                api.like(values_of_ids[i])\n",
    "                api.create_tweet(text = reply, in_reply_to_tweet_id = values_of_ids[i])\n",
    "                append_new_id(str(values_of_ids[i]))\n",
    "            else:\n",
    "                api.like(values_of_ids[i])\n",
    "                api.retweet(values_of_ids[i])\n",
    "                append_new_id(str(values_of_ids[i]))"
   ]
  }
 ],
 "metadata": {
  "kernelspec": {
   "display_name": "Python 3",
   "language": "python",
   "name": "python3"
  },
  "language_info": {
   "codemirror_mode": {
    "name": "ipython",
    "version": 3
   },
   "file_extension": ".py",
   "mimetype": "text/x-python",
   "name": "python",
   "nbconvert_exporter": "python",
   "pygments_lexer": "ipython3",
   "version": "3.8.8"
  },
  "vscode": {
   "interpreter": {
    "hash": "b90b5480b90dfd82255d68efb607ef96370ef33575f247c89a0b81cbaa1e7b55"
   }
  }
 },
 "nbformat": 4,
 "nbformat_minor": 2
}
