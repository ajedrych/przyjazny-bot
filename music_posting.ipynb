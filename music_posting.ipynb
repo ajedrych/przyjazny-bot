{
 "cells": [
  {
   "cell_type": "markdown",
   "metadata": {},
   "source": [
    "### **przyjazny bot**\n",
    "#### post lyrics from top 50 songs in Poland on Twitter"
   ]
  },
  {
   "cell_type": "markdown",
   "metadata": {},
   "source": [
    "Import necessary libraries"
   ]
  },
  {
   "cell_type": "code",
   "execution_count": 24,
   "metadata": {},
   "outputs": [],
   "source": [
    "import spotipy\n",
    "import spotipy.oauth2 as oauth2\n",
    "from spotipy.oauth2 import SpotifyOAuth\n",
    "from spotipy.oauth2 import SpotifyClientCredentials\n",
    "import lyricsgenius\n",
    "import tweepy\n",
    "import random\n",
    "import os\n",
    "import pandas as pd\n",
    "from dotenv import load_dotenv"
   ]
  },
  {
   "cell_type": "markdown",
   "metadata": {},
   "source": [
    "##### Spotify API Authorization"
   ]
  },
  {
   "cell_type": "code",
   "execution_count": 25,
   "metadata": {},
   "outputs": [],
   "source": [
    "load_dotenv()\n",
    "\n",
    "auth_manager = SpotifyClientCredentials(client_id=os.getenv(\"SPOTIPY_CLIENT_ID\"), client_secret=os.getenv(\"SPOTIPY_CLIENT_SECRET\"))\n",
    "sp = spotipy.Spotify(auth_manager=auth_manager)"
   ]
  },
  {
   "cell_type": "markdown",
   "metadata": {},
   "source": [
    "Download track ids from specific playlist"
   ]
  },
  {
   "cell_type": "code",
   "execution_count": 26,
   "metadata": {},
   "outputs": [],
   "source": [
    "def download_tracks_ids(username, playlist_id):\n",
    "    tracks_ids = []\n",
    "    playlist = sp.user_playlist(username, playlist_id)\n",
    "    for item in playlist['tracks']['items']:\n",
    "        track = item['track']\n",
    "        tracks_ids.append(track['id'])\n",
    "    return tracks_ids"
   ]
  },
  {
   "cell_type": "code",
   "execution_count": 27,
   "metadata": {},
   "outputs": [
    {
     "name": "stdout",
     "output_type": "stream",
     "text": [
      "['3Nqxx5fdl3FQlrk3zarRmA', '09m29we7x9tgxyo6f3OQ87', '384lHduuDsrR4HPUwR3fG4', '4JmaOG7bfj1uNv8jEUg0Ce', '3f9Ugg030LDe0p6ospTORC', '3p6uAP2ajkobkIW8IkEpgr', '3nqQXoyQOWXiESFLlDF1hG', '4uUG5RXrOk84mYEfFvj3cK', '73vIOb4Q7YN6HeJTbscRx5', '2yxPqxHbj1L7vrCpHLtAcG', '08sMDBcjUBXWV99gZI092C', '5GdFPcbGDQqtbVO2jl6Ez5', '4nv5o5Xo4ySBaIVnXr75Xs', '1yiGGRGdHEc1F3jF5jEVmH', '561jH07mF1jHuk7KlaeF0s', '11BKm0j4eYoCPPpCONAVwA', '4N6rgD6EqLbWcl5ld3NqTP', '0zmxM4MXfisJRTQcPa1wbv', '7jtQIBanIiJOMS6RyCx6jZ', '4lPAZiTJbaQ4irMzcq0GOU', '11JXHNIH2xO5INcJQOWCjY', '53OQFPwyflA0jMyUjUSawr', '0JXXNGljqupsJaZsgSbMZV', '2KTfSSKBBfMLXwDqrtoOE5', '4h9wh7iOZ0GGn8QVp4RAOB', '5YvL3ytkusKcM5ozxD9fKN', '5NbxvSCL1xLqqWLqG6LjwE', '5XeFesFbtLpXzIVDNQP22n', '1cAAn5PKy40T1p15fpTPW8', '1Qrg8KqiBpW07V7PNxwwwL', '14154tJOTjeyeOyhnqP4QM', '2QjOHCTQ1Jl3zawyYOpxh6', '1VoUHMVxu1qG2Z9josOhWs', '2yEWVnp65tTXSrRW03IqXs', '1N8TTK1Uoy7UvQNUazfUt5', '3rb0tMq42WfggucPm0HHkA', '4Dvkj6JhhA12EX05fT7y2e', '5fjcRpwg94xQ2hrSqw6x06', '5fxFhJyveLasVUfuHf6lYP', '2qqiGxy47FbviXuPW7crUH', '46KrcgLn015ammHqC8FWsw', '2dHHgzDwk4BJdRwy9uXhTO', '5YdnOm5990Kfq1Jodws98B', '4nng35mDbhJjPyGwXFNk76', '2nGA88iGanJ3rkDaWXQLyv', '1J3rvvPqfplUP3w1y9y8In', '4zN21mbAuaD0WqtmaTZZeP', '5qBLfeAGlgGGsckKhsMWpF', '5WxVXxCMRnvxUKFq40ELwq', '3zkyus0njMCL6phZmNNEeN']\n"
     ]
    }
   ],
   "source": [
    "tracks_ids = download_tracks_ids(os.getenv(\"USERNAME\"), os.getenv(\"PLAYLIST_ID\"))\n",
    "print(tracks_ids)"
   ]
  },
  {
   "cell_type": "markdown",
   "metadata": {},
   "source": [
    "Draw of a track id"
   ]
  },
  {
   "cell_type": "code",
   "execution_count": 28,
   "metadata": {},
   "outputs": [
    {
     "name": "stdout",
     "output_type": "stream",
     "text": [
      "5fjcRpwg94xQ2hrSqw6x06\n"
     ]
    }
   ],
   "source": [
    "track_id = random.choice(tracks_ids)\n",
    "print(track_id)"
   ]
  },
  {
   "cell_type": "markdown",
   "metadata": {},
   "source": [
    "Collect data (title and main artist) needed to search lyrics via the Genius API"
   ]
  },
  {
   "cell_type": "code",
   "execution_count": 29,
   "metadata": {},
   "outputs": [],
   "source": [
    "def artist_genius(track_id):\n",
    "    track_info = sp.track(track_id)\n",
    "    artist_genius = track_info['album']['artists'][0]['name']\n",
    "    return artist_genius"
   ]
  },
  {
   "cell_type": "code",
   "execution_count": 30,
   "metadata": {},
   "outputs": [],
   "source": [
    "def title(track_id):\n",
    "    song_info = sp.track(track_id)\n",
    "    title = song_info['name']\n",
    "    return title"
   ]
  },
  {
   "cell_type": "markdown",
   "metadata": {},
   "source": [
    "Collect information about all artists to include in a tweet"
   ]
  },
  {
   "cell_type": "code",
   "execution_count": 31,
   "metadata": {},
   "outputs": [],
   "source": [
    "def artists(track_id):\n",
    "    track_info = sp.track(track_id)\n",
    "    artists_list = []\n",
    "    for i in range(0, len(track_info['album']['artists'])):\n",
    "        artists_list.append(track_info['album']['artists'][i]['name']) \n",
    "    str_artists = \", \"\n",
    "    return(str_artists.join(artists_list))"
   ]
  },
  {
   "cell_type": "code",
   "execution_count": 32,
   "metadata": {},
   "outputs": [
    {
     "name": "stdout",
     "output_type": "stream",
     "text": [
      "IGNACY Czekam Na Znak IGNACY\n"
     ]
    }
   ],
   "source": [
    "print(artist_genius(track_id), title(track_id), artists(track_id))"
   ]
  },
  {
   "cell_type": "markdown",
   "metadata": {},
   "source": [
    "##### Genius API"
   ]
  },
  {
   "cell_type": "code",
   "execution_count": 33,
   "metadata": {},
   "outputs": [],
   "source": [
    "genius = lyricsgenius.Genius(os.getenv(\"GENIUS_CLIENT_ID\"))\n",
    "genius.remove_section_headers = True"
   ]
  },
  {
   "cell_type": "markdown",
   "metadata": {},
   "source": [
    "Download track lyrics from Genius"
   ]
  },
  {
   "cell_type": "code",
   "execution_count": 34,
   "metadata": {},
   "outputs": [],
   "source": [
    "def raw_lyrics(track_id):\n",
    "    lyrics = genius.search_song(title(track_id), artist_genius(track_id)).lyrics\n",
    "    return lyrics"
   ]
  },
  {
   "cell_type": "markdown",
   "metadata": {},
   "source": [
    "Processing the text to include it in the tweet"
   ]
  },
  {
   "cell_type": "code",
   "execution_count": 35,
   "metadata": {},
   "outputs": [],
   "source": [
    "def tweet_content(lyrics, track_id):\n",
    "    lyrics = lyrics.split('\\n')\n",
    "    for index in range(len(lyrics)):\n",
    "        if lyrics[index] == \"\" or \"[\" in lyrics[index]:\n",
    "            lyrics[index] = \"XXX\"\n",
    "    lyrics = [i for i in lyrics if i != \"XXX\"]\n",
    "\n",
    "    random_num = random.randrange(0, len(lyrics)-1)\n",
    "    tweet = lyrics[random_num] + \"\\n\" + lyrics[random_num+1] + \"\\n\" + \"\\n\" + title(track_id) + \" by \" + artists(track_id)\n",
    "    tweet = tweet.replace(\"\\\\\", \"\")\n",
    "    return tweet"
   ]
  },
  {
   "cell_type": "code",
   "execution_count": 36,
   "metadata": {},
   "outputs": [
    {
     "name": "stdout",
     "output_type": "stream",
     "text": [
      "Searching for \"Czekam Na Znak\" by IGNACY...\n",
      "Done.\n"
     ]
    },
    {
     "data": {
      "text/plain": [
       "'Bardzo chciałbym to zrozumieć\\nNasze myśli dzieli wysoki mur\\n\\nCzekam Na Znak by IGNACY'"
      ]
     },
     "execution_count": 36,
     "metadata": {},
     "output_type": "execute_result"
    }
   ],
   "source": [
    "lyrics = raw_lyrics(track_id)\n",
    "tweet_content(lyrics, track_id)"
   ]
  },
  {
   "cell_type": "markdown",
   "metadata": {},
   "source": [
    "##### Twitter API"
   ]
  },
  {
   "cell_type": "code",
   "execution_count": 37,
   "metadata": {},
   "outputs": [],
   "source": [
    "api = tweepy.Client(bearer_token=os.getenv(\"BEARER_TOKEN\"), consumer_key= os.getenv(\"CONSUMER_KEY\"), consumer_secret=os.getenv(\"CONSUMER_SECRET\"), access_token=os.getenv(\"ACCESS_TOKEN\"), access_token_secret=os.getenv(\"ACCESS_TOKEN_SECRET\") )"
   ]
  },
  {
   "cell_type": "markdown",
   "metadata": {},
   "source": [
    "Tweet lyrics of one of TOP 50 tracks in Poland"
   ]
  },
  {
   "cell_type": "code",
   "execution_count": 38,
   "metadata": {},
   "outputs": [
    {
     "name": "stdout",
     "output_type": "stream",
     "text": [
      "Searching for \"Czekam Na Znak\" by IGNACY...\n",
      "Done.\n"
     ]
    }
   ],
   "source": [
    "result = None\n",
    "while result is None:\n",
    "    try:\n",
    "      lyrics = raw_lyrics(track_id)\n",
    "      result = api.create_tweet(text=tweet_content(lyrics, track_id))\n",
    "    except:\n",
    "         pass"
   ]
  },
  {
   "cell_type": "markdown",
   "metadata": {},
   "source": [
    "#### Retweet quote tweets and reply on mention"
   ]
  },
  {
   "cell_type": "markdown",
   "metadata": {},
   "source": [
    "Draw of a track id"
   ]
  },
  {
   "cell_type": "code",
   "execution_count": 39,
   "metadata": {},
   "outputs": [
    {
     "name": "stdout",
     "output_type": "stream",
     "text": [
      "4nng35mDbhJjPyGwXFNk76\n"
     ]
    }
   ],
   "source": [
    "track_id = random.choice(tracks_ids)\n",
    "print(track_id)"
   ]
  },
  {
   "cell_type": "code",
   "execution_count": 40,
   "metadata": {},
   "outputs": [],
   "source": [
    "def get_tweet(id):\n",
    "    tweet = api.get_tweet(id, expansions=['author_id'], user_fields=['username'])\n",
    "    return tweet"
   ]
  },
  {
   "cell_type": "code",
   "execution_count": 41,
   "metadata": {},
   "outputs": [],
   "source": [
    "def quote_tweets(query, max_results):\n",
    "    tweets = api.search_recent_tweets(query=query, max_results=max_results)\n",
    "    results = []\n",
    "    if not tweets.data is None and len(tweets.data) > 0:\n",
    "        for tweet in tweets.data:\n",
    "            twt = get_tweet(tweet['id'])\n",
    "            obj = {}\n",
    "            obj['id'] = tweet.id\n",
    "            obj['username'] = twt.includes['users'][0].username\n",
    "            obj['text'] = tweet.text\n",
    "            results.append(obj)\n",
    "    return results"
   ]
  },
  {
   "cell_type": "markdown",
   "metadata": {},
   "source": [
    "Check if whether a tweet (id) has already received a reply"
   ]
  },
  {
   "cell_type": "code",
   "execution_count": 42,
   "metadata": {},
   "outputs": [],
   "source": [
    "def check(id):\n",
    "    with open('last_tweet_ids.txt') as f:\n",
    "        datafile = f.readlines()\n",
    "    for line in datafile:\n",
    "        if id in line:\n",
    "            return True\n",
    "    return False"
   ]
  },
  {
   "cell_type": "markdown",
   "metadata": {},
   "source": [
    "Add tweet (id) to database = text file\n"
   ]
  },
  {
   "cell_type": "code",
   "execution_count": 43,
   "metadata": {},
   "outputs": [],
   "source": [
    "def append_new_id(text_to_append):\n",
    "    with open('last_tweet_ids.txt', \"a+\") as file_object:\n",
    "        file_object.seek(0)\n",
    "        data = file_object.read(100)\n",
    "        if len(data) > 0:\n",
    "            file_object.write(\"\\n\")\n",
    "        file_object.write(text_to_append)"
   ]
  },
  {
   "cell_type": "code",
   "execution_count": 44,
   "metadata": {},
   "outputs": [
    {
     "data": {
      "text/plain": [
       "[{'id': 1615408509134245888,\n",
       "  'username': 'olalyricsbot',\n",
       "  'text': '@przyjaznybot przyjazny draw lyrics'},\n",
       " {'id': 1615407576627257344,\n",
       "  'username': 'przyjaznybot',\n",
       "  'text': 'RT @olalyricsbot: testuje nowego bota'},\n",
       " {'id': 1615407573770899457,\n",
       "  'username': 'przyjaznybot',\n",
       "  'text': 'RT @olalyricsbot: @przyjaznybot draw lyrics'},\n",
       " {'id': 1615403081352478729,\n",
       "  'username': 'olalyricsbot',\n",
       "  'text': 'RT @olalyricsbot: @przyjaznybot draw lyrics'},\n",
       " {'id': 1615403077904760847,\n",
       "  'username': 'olalyricsbot',\n",
       "  'text': 'RT @olalyricsbot: testuje nowego bota'},\n",
       " {'id': 1615402988066963491,\n",
       "  'username': 'olalyricsbot',\n",
       "  'text': 'testuje nowego bota https://t.co/AOJ8RaV39u'},\n",
       " {'id': 1615402853689851916,\n",
       "  'username': 'olalyricsbot',\n",
       "  'text': '@przyjaznybot draw lyrics'}]"
      ]
     },
     "execution_count": 44,
     "metadata": {},
     "output_type": "execute_result"
    }
   ],
   "source": [
    "QUERY = \"przyjaznybot\"\n",
    "MAX_RESULTS = 10\n",
    "\n",
    "quote_tweets(QUERY, MAX_RESULTS)"
   ]
  },
  {
   "cell_type": "markdown",
   "metadata": {},
   "source": [
    "From list of dictionaries to list of specific variables"
   ]
  },
  {
   "cell_type": "code",
   "execution_count": 45,
   "metadata": {},
   "outputs": [],
   "source": [
    "values_of_usernames = [dict['username'] for dict in quote_tweets(QUERY, MAX_RESULTS)]\n",
    "values_of_ids = [dict['id'] for dict in quote_tweets(QUERY, MAX_RESULTS)]\n",
    "values_of_text = [dict['text'] for dict in quote_tweets(QUERY, MAX_RESULTS)]"
   ]
  },
  {
   "cell_type": "markdown",
   "metadata": {},
   "source": [
    "If someone share a tweet containing the phrase \"przyjazny draw lyrics\", bot create new tweet with the user's mention. <br>\n",
    "If someone quotes a tweet, bot retweet it."
   ]
  },
  {
   "cell_type": "code",
   "execution_count": 46,
   "metadata": {},
   "outputs": [
    {
     "name": "stdout",
     "output_type": "stream",
     "text": [
      "Searching for \"GUGU x 2115\" by 2115...\n",
      "Done.\n"
     ]
    }
   ],
   "source": [
    "lines = []\n",
    "lyrics = raw_lyrics(track_id)\n",
    "for i in range(len(values_of_ids)):\n",
    "    if check(str(values_of_ids[i])) == False:\n",
    "        if values_of_usernames[i] != \"przyjaznybot\":\n",
    "            if \"przyjazny draw lyrics\" in values_of_text[i] and check(str(values_of_ids[i])) == False:\n",
    "                reply = \"hello @\" + values_of_usernames[i] + \"\\n\" + \"\\n\" + tweet_content(lyrics, track_id)\n",
    "                api.like(values_of_ids[i])\n",
    "                api.create_tweet(text=reply)\n",
    "                append_new_id(str(values_of_ids[i]))\n",
    "            else:\n",
    "                api.like(values_of_ids[i])\n",
    "                api.retweet(values_of_ids[i])\n",
    "                append_new_id(str(values_of_ids[i]))"
   ]
  }
 ],
 "metadata": {
  "kernelspec": {
   "display_name": "Python 3 (ipykernel)",
   "language": "python",
   "name": "python3"
  },
  "language_info": {
   "codemirror_mode": {
    "name": "ipython",
    "version": 3
   },
   "file_extension": ".py",
   "mimetype": "text/x-python",
   "name": "python",
   "nbconvert_exporter": "python",
   "pygments_lexer": "ipython3",
   "version": "3.9.7"
  },
  "vscode": {
   "interpreter": {
    "hash": "b90b5480b90dfd82255d68efb607ef96370ef33575f247c89a0b81cbaa1e7b55"
   }
  }
 },
 "nbformat": 4,
 "nbformat_minor": 2
}
